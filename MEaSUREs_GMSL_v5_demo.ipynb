{
 "cells": [
  {
   "cell_type": "markdown",
   "metadata": {},
   "source": [
    "# Global Mean Sea Level Trend from Integrated Multi-Mission Ocean Altimeters TOPEX/Poseidon, Jason-1, OSTM/Jason-2, and Jason-3 Version 5.0\n",
    "\n",
    "**Dataset**\n",
    "\n",
    "https://doi.org/10.5067/GMSLM-TJ150\n",
    "\n",
    "This dataset contains the Global Mean Sea Level (GMSL) trend generated from the Integrated Multi-Mission Ocean Altimeter Data for Climate Research Version 5. The GMSL trend is a 1-dimensional time series of globally averaged Sea Surface Height Anomalies (SSHA) from TOPEX/Poseidon, Jason-1, OSTM/Jason-2, and Jason-3 that covers September 1992 to present with a lag of up to 4 months. The data are reported as variations relative to a 20-year TOPEX/Jason collinear mean. Bias adjustments and cross-calibrations were applied to ensure SSHA data are consistent across the missions; Glacial Isostatic Adjustment (GIA) was also applied. The data are available as a table in ASCII format. Changes between the version 4.2 and version 5 releases are described in detail in the User Handbook ([https://doi.org/10.5067/ALTUG-TJ150](https://doi.org/10.5067/ALTUG-TJ150)).\n",
    "\n",
    "**Citation**\n",
    "\n",
    "    Beckley, B.; Yang, X.; Zelensky, N.P.; Holmes, S.A.;Lemoine, F.G.; Ray, R.D.; Mitchum, G.T.; Desai, S.; Brown, S.T.. 2020. Global Mean Sea Level Trend from Integrated Multi-Mission Ocean Altimeters TOPEX/Poseidon, Jason-1, OSTM/Jason-2, and Jason-3 Version 5.0. Ver. 5. PO.DAAC, CA, USA. Dataset accessed [YYYY-MM-DD] at https://doi.org/10.5067/GMSLM-TJ150.\n",
    "\n",
    "***In this notebook***\n",
    "\n",
    "You will learn how to download the ASCII table, load it into a [*pandas*](https://pandas.pydata.org/) data frame, and plot GMSL time series with [*matplotlib*](https://matplotlib.org/). Then, you will convert the data frame to an [*xarray*](https://xarray.pydata.org/) dataset, add some standard attributes for [CF compliance](https://cfconventions.org/), and write to netCDF4."
   ]
  },
  {
   "cell_type": "code",
   "execution_count": 1,
   "metadata": {
    "ExecuteTime": {
     "end_time": "2021-01-08T03:31:57.484470Z",
     "start_time": "2021-01-08T03:31:56.917642Z"
    }
   },
   "outputs": [],
   "source": [
    "from datetime import datetime, timedelta\n",
    "from os.path import basename\n",
    "from io import StringIO\n",
    "import urllib.request\n",
    "import numpy as np\n",
    "import pandas as pd\n",
    "import xarray as xr\n",
    "import matplotlib.pyplot as plt\n",
    "\n",
    "SMALL_SIZE = 14\n",
    "MEDIUM_SIZE = 16\n",
    "BIGGER_SIZE = 18\n",
    "plt.rc('font', size=SMALL_SIZE)          # controls default text sizes\n",
    "plt.rc('axes', titlesize=BIGGER_SIZE)    # fontsize of the axes title\n",
    "plt.rc('axes', labelsize=MEDIUM_SIZE)    # fontsize of the x and y labels\n",
    "plt.rc('xtick', labelsize=SMALL_SIZE)    # fontsize of the tick labels\n",
    "plt.rc('ytick', labelsize=SMALL_SIZE)    # fontsize of the tick labels\n",
    "plt.rc('legend', fontsize=SMALL_SIZE)    # legend fontsize\n",
    "plt.rc('figure', titlesize=BIGGER_SIZE)  # fontsize of the figure title\n",
    "plt.style.use('fast')"
   ]
  },
  {
   "cell_type": "markdown",
   "metadata": {},
   "source": [
    "Print the OPeNDAP endpoint for the ASCII file and test that you have access by clicking the link shown below:"
   ]
  },
  {
   "cell_type": "code",
   "execution_count": 2,
   "metadata": {
    "ExecuteTime": {
     "end_time": "2021-01-08T03:31:57.489890Z",
     "start_time": "2021-01-08T03:31:57.486755Z"
    }
   },
   "outputs": [
    {
     "name": "stdout",
     "output_type": "stream",
     "text": [
      "https://opendap.jpl.nasa.gov/opendap/allData/merged_alt/L2/TP_J1_OSTM/global_mean_sea_level/GMSL_TPJAOS_5.0_199209_202009.txt\n"
     ]
    }
   ],
   "source": [
    "opendap_url = \"https://opendap.jpl.nasa.gov/opendap/allData/merged_alt/L2/TP_J1_OSTM/global_mean_sea_level/GMSL_TPJAOS_5.0_199209_202009.txt\"\n",
    "\n",
    "print(opendap_url)"
   ]
  },
  {
   "cell_type": "markdown",
   "metadata": {},
   "source": [
    "Download the ASCII data file from the OPeNDAP endpoint shown above. Print the first line:"
   ]
  },
  {
   "cell_type": "code",
   "execution_count": 3,
   "metadata": {
    "ExecuteTime": {
     "end_time": "2021-01-08T03:31:58.058279Z",
     "start_time": "2021-01-08T03:31:57.492545Z"
    }
   },
   "outputs": [
    {
     "name": "stdout",
     "output_type": "stream",
     "text": [
      "HDR Global Mean Sea Level Data\n"
     ]
    }
   ],
   "source": [
    "with urllib.request.urlopen(opendap_url) as f:\n",
    "    data = f.read().decode('utf-8')\n",
    "\n",
    "print(data.split(\"\\n\")[0])"
   ]
  },
  {
   "cell_type": "markdown",
   "metadata": {},
   "source": [
    "## File\n",
    "\n",
    "Every line of the header begins with the string `HDR`, followed by a whitespace. Identify the index of the final line of the header:"
   ]
  },
  {
   "cell_type": "code",
   "execution_count": 4,
   "metadata": {
    "ExecuteTime": {
     "end_time": "2021-01-08T03:31:58.064620Z",
     "start_time": "2021-01-08T03:31:58.060679Z"
    }
   },
   "outputs": [
    {
     "name": "stdout",
     "output_type": "stream",
     "text": [
      "Index of the last line of the header:\t48\n",
      "Index of the first line of the data:\t49\n"
     ]
    }
   ],
   "source": [
    "for ix, line in enumerate(data.split(\"\\n\")):\n",
    "    if not line.startswith(\"HDR\"):\n",
    "        print(f\"Index of the last line of the header:\\t{ix}\")\n",
    "        print(f\"Index of the first line of the data:\\t{ix+1}\")\n",
    "        break"
   ]
  },
  {
   "cell_type": "markdown",
   "metadata": {},
   "source": [
    "### Header\n",
    "\n",
    "Split the `data` string into a list of lines and select the lines corresponding to the header. Display the header as a block of text:"
   ]
  },
  {
   "cell_type": "code",
   "execution_count": 5,
   "metadata": {
    "ExecuteTime": {
     "end_time": "2021-01-08T03:31:58.069749Z",
     "start_time": "2021-01-08T03:31:58.066582Z"
    },
    "scrolled": true
   },
   "outputs": [
    {
     "name": "stdout",
     "output_type": "stream",
     "text": [
      "HDR Global Mean Sea Level Data\n",
      "HDR\n",
      "HDR This file contains Global Mean Sea Level (GMSL) variations computed at the NASA Goddard Space Flight Center under the \n",
      "HDR auspices of the NASA Sea Level Change program. The GMSL was generated using the Integrated Multi-Mission Ocean Altimeter Data for \n",
      "HDR Climate Research (http://podaac.jpl.nasa.gov/dataset/MERGED_TP_J1_OSTM_OST_ALL_V5). It combines Sea Surface Heights from \n",
      "HDR TOPEX/Poseidon, Jason-1, OSTM/Jason-2, and Jason-3 to a common terrestrial reference frame with all inter-mission biases, range and \n",
      "HDR geophysical corrections applied and placed onto a georeferenced orbit. This creates a consistent data record throughout \n",
      "HDR time, regardless of the instrument used.\n",
      "HDR\n",
      "HDR The data can be found below. A separate figure file, Global_Sea_Level_Graph, was generated using the GMSL data (listed in \n",
      "HDR column 12 below) with the 60-day Gaussian type filter and having the Global Isostatic Adjustment (GIA) applied, with annual \n",
      "HDR and semi-annual signals removed.\n",
      "HDR\n",
      "HDR If you use these data please cite:\n",
      "HDR GSFC. 2020. Global Mean Sea Level Trend from Integrated Multi-Mission Ocean Altimeters TOPEX/Poseidon, Jason-1, OSTM/Jason-2, and Jason-3 Version 5.0 Ver. 5.0 PO.DAAC, CA, USA. Dataset accessed [YYYY-MM-DD] at http://dx.doi.org/10.5067/GMSLM-TJ150.\n",
      "HDR\n",
      "HDR For information on how the data were generate please refer to: \n",
      "HDR Beckley, B. D., Callahan, P. S., Hancock, D. W., Mitchum, G. T., & Ray, R. D. (2017). On the ‘‘cal-mode’’\n",
      "HDR correction to TOPEX satellite altimetry and its effect on the global mean sea level time series.\n",
      "HDR Journal of Geophysical Research: Oceans, 122. https://doi.org/10.1002/2017JC013090\n",
      "HDR\n",
      "HDR Beckley, B.D.,  N. P. Zelensky, S. A. Holmes, F. G. Lemoine, R. D. Ray, G. T. Mitchum, S. D. Desai & S. T. Brown, Assessment \n",
      "HDR of the Jason-2 Extension to the TOPEX/Poseidon, Jason-1 Sea-Surface Height Time Series for Global Mean Sea Level \n",
      "HDR Monitoring, Marine Geodesy, Vol 33, Suppl 1, 2010. DOI:10.1080/01490419.2010.491029\n",
      "HDR\n",
      "HDR ====================\n",
      "HDR\n",
      "HDR Global Mean Sea Level (GMSL) variations from TPJAOS v5.0\n",
      "HDR\n",
      "HDR column description \n",
      "HDR 1 altimeter type 0=dual-frequency  999=single frequency (ie Poseidon-1) \n",
      "HDR 2 merged file cycle # \n",
      "HDR 3 year+fraction of year (mid-cycle) \n",
      "HDR 4 number of observations \n",
      "HDR 5 number of weighted observations \n",
      "HDR 6 GMSL (Global Isostatic Adjustment (GIA) not applied) variation (mm) with respect to 20-year TOPEX/Jason collinear mean reference \n",
      "HDR 7 standard deviation of GMSL (GIA not applied) variation estimate (mm)\n",
      "HDR 8 smoothed (60-day Gaussian type filter) GMSL (GIA not applied) variation (mm)  \n",
      "HDR 9 GMSL (Global Isostatic Adjustment (GIA) applied) variation (mm) with respect to 20-year TOPEX/Jason collinear mean reference \n",
      "HDR 10 standard deviation of GMSL (GIA applied) variation estimate (mm)\n",
      "HDR 11 smoothed (60-day Gaussian type filter) GMSL (GIA applied) variation (mm)\n",
      "HDR 12 smoothed (60-day Gaussian type filter) GMSL (GIA applied) variation (mm); annual and semi-annual signal removed\n",
      "HDR\n",
      "HDR Missing or bad value flag: 99900.000 \n",
      "HDR \n",
      "HDR TOPEX/Jason 1996-2016 collinear mean reference derived from cycles 121 to 858. \n",
      "HDR \n",
      "HDR Header_End---------------------------------------\n"
     ]
    }
   ],
   "source": [
    "lns = data.split(\"\\n\")\n",
    "hdr = lns[:48]\n",
    "\n",
    "print(\"\\n\".join(hdr))"
   ]
  },
  {
   "cell_type": "markdown",
   "metadata": {},
   "source": [
    "Note the header content:\n",
    "\n",
    "* Details about the dataset/collection are given in the upper portion of the header (above the line of `=`).\n",
    "* Details about the data file, including descriptions/units for each column and a missing data flag, are given in the lower portion of the header."
   ]
  },
  {
   "cell_type": "code",
   "execution_count": 6,
   "metadata": {
    "ExecuteTime": {
     "end_time": "2021-01-08T03:31:58.076549Z",
     "start_time": "2021-01-08T03:31:58.071352Z"
    }
   },
   "outputs": [
    {
     "data": {
      "text/plain": [
       "['1 altimeter type 0=dual-frequency  999=single frequency (ie Poseidon-1) ',\n",
       " '2 merged file cycle # ',\n",
       " '3 year+fraction of year (mid-cycle) ',\n",
       " '4 number of observations ',\n",
       " '5 number of weighted observations ',\n",
       " '6 GMSL (Global Isostatic Adjustment (GIA) not applied) variation (mm) with respect to 20-year TOPEX/Jason collinear mean reference ',\n",
       " '7 standard deviation of GMSL (GIA not applied) variation estimate (mm)',\n",
       " '8 smoothed (60-day Gaussian type filter) GMSL (GIA not applied) variation (mm)  ',\n",
       " '9 GMSL (Global Isostatic Adjustment (GIA) applied) variation (mm) with respect to 20-year TOPEX/Jason collinear mean reference ',\n",
       " '10 standard deviation of GMSL (GIA applied) variation estimate (mm)',\n",
       " '11 smoothed (60-day Gaussian type filter) GMSL (GIA applied) variation (mm)',\n",
       " '12 smoothed (60-day Gaussian type filter) GMSL (GIA applied) variation (mm); annual and semi-annual signal removed']"
      ]
     },
     "execution_count": 6,
     "metadata": {},
     "output_type": "execute_result"
    }
   ],
   "source": [
    "column_metadata = [l[4:] for l in hdr[30:42]]\n",
    "\n",
    "column_metadata"
   ]
  },
  {
   "cell_type": "markdown",
   "metadata": {},
   "source": [
    "I chose the following column names based on the info shown above:"
   ]
  },
  {
   "cell_type": "code",
   "execution_count": 7,
   "metadata": {
    "ExecuteTime": {
     "end_time": "2021-01-08T03:31:58.081263Z",
     "start_time": "2021-01-08T03:31:58.078210Z"
    }
   },
   "outputs": [],
   "source": [
    "column_names = [\n",
    "    'altimeter_type',\n",
    "    'cycle', \n",
    "    'year',\n",
    "    'observation_count', \n",
    "    'observation_count_weighted',\n",
    "    'gmsl_variation',\n",
    "    'gmsl_variation_std',\n",
    "    'gmsl_variation_smooth',\n",
    "    'gmsl_variation_with_gia',\n",
    "    'gmsl_variation_with_gia_std',\n",
    "    'gmsl_variation_with_gia_smooth',\n",
    "    'gmsl_variation_with_gia_smooth_and_signals_removed',\n",
    "]"
   ]
  },
  {
   "cell_type": "markdown",
   "metadata": {},
   "source": [
    "### Data\n",
    "\n",
    "Now load the data portion of the ASCII file into a [*pandas.DataFrame*](https://pandas.pydata.org/pandas-docs/stable/reference/api/pandas.DataFrame.html).\n",
    "\n",
    "Everything after line 48 is data. Get the lines of the table as a separate list and display the first line:"
   ]
  },
  {
   "cell_type": "code",
   "execution_count": 8,
   "metadata": {
    "ExecuteTime": {
     "end_time": "2021-01-08T03:31:58.089080Z",
     "start_time": "2021-01-08T03:31:58.085834Z"
    }
   },
   "outputs": [
    {
     "name": "stdout",
     "output_type": "stream",
     "text": [
      "  0   11  1993.0115260    452600 327401.31    -38.59     89.86    -38.76    -38.59     89.86    -38.75    -38.57\n"
     ]
    }
   ],
   "source": [
    "lns = [l for l in lns[48:]]\n",
    "\n",
    "print(lns[0])"
   ]
  },
  {
   "cell_type": "markdown",
   "metadata": {},
   "source": [
    "Join the list of lines into a big multiline string; make a `io.StringIO` object. Pass the object to the `pandas.read_fwf` convenience function:"
   ]
  },
  {
   "cell_type": "code",
   "execution_count": 9,
   "metadata": {
    "ExecuteTime": {
     "end_time": "2021-01-08T03:31:58.138160Z",
     "start_time": "2021-01-08T03:31:58.092053Z"
    }
   },
   "outputs": [
    {
     "data": {
      "text/html": [
       "<div>\n",
       "<style scoped>\n",
       "    .dataframe tbody tr th:only-of-type {\n",
       "        vertical-align: middle;\n",
       "    }\n",
       "\n",
       "    .dataframe tbody tr th {\n",
       "        vertical-align: top;\n",
       "    }\n",
       "\n",
       "    .dataframe thead th {\n",
       "        text-align: right;\n",
       "    }\n",
       "</style>\n",
       "<table border=\"1\" class=\"dataframe\">\n",
       "  <thead>\n",
       "    <tr style=\"text-align: right;\">\n",
       "      <th></th>\n",
       "      <th>altimeter_type</th>\n",
       "      <th>cycle</th>\n",
       "      <th>year</th>\n",
       "      <th>observation_count</th>\n",
       "      <th>observation_count_weighted</th>\n",
       "      <th>gmsl_variation</th>\n",
       "      <th>gmsl_variation_std</th>\n",
       "      <th>gmsl_variation_smooth</th>\n",
       "      <th>gmsl_variation_with_gia</th>\n",
       "      <th>gmsl_variation_with_gia_std</th>\n",
       "      <th>gmsl_variation_with_gia_smooth</th>\n",
       "      <th>gmsl_variation_with_gia_smooth_and_signals_removed</th>\n",
       "    </tr>\n",
       "  </thead>\n",
       "  <tbody>\n",
       "    <tr>\n",
       "      <th>0</th>\n",
       "      <td>0</td>\n",
       "      <td>11</td>\n",
       "      <td>1993.011526</td>\n",
       "      <td>452600</td>\n",
       "      <td>327401.31</td>\n",
       "      <td>-38.59</td>\n",
       "      <td>89.86</td>\n",
       "      <td>-38.76</td>\n",
       "      <td>-38.59</td>\n",
       "      <td>89.86</td>\n",
       "      <td>-38.75</td>\n",
       "      <td>-38.57</td>\n",
       "    </tr>\n",
       "    <tr>\n",
       "      <th>1</th>\n",
       "      <td>0</td>\n",
       "      <td>12</td>\n",
       "      <td>1993.038692</td>\n",
       "      <td>447591</td>\n",
       "      <td>324498.41</td>\n",
       "      <td>-41.97</td>\n",
       "      <td>90.86</td>\n",
       "      <td>-39.78</td>\n",
       "      <td>-41.97</td>\n",
       "      <td>90.86</td>\n",
       "      <td>-39.77</td>\n",
       "      <td>-39.11</td>\n",
       "    </tr>\n",
       "    <tr>\n",
       "      <th>2</th>\n",
       "      <td>0</td>\n",
       "      <td>13</td>\n",
       "      <td>1993.065858</td>\n",
       "      <td>459462</td>\n",
       "      <td>333018.19</td>\n",
       "      <td>-41.93</td>\n",
       "      <td>87.27</td>\n",
       "      <td>-39.62</td>\n",
       "      <td>-41.91</td>\n",
       "      <td>87.27</td>\n",
       "      <td>-39.61</td>\n",
       "      <td>-38.58</td>\n",
       "    </tr>\n",
       "    <tr>\n",
       "      <th>3</th>\n",
       "      <td>0</td>\n",
       "      <td>14</td>\n",
       "      <td>1993.093025</td>\n",
       "      <td>410064</td>\n",
       "      <td>297483.19</td>\n",
       "      <td>-42.67</td>\n",
       "      <td>90.75</td>\n",
       "      <td>-39.67</td>\n",
       "      <td>-42.65</td>\n",
       "      <td>90.74</td>\n",
       "      <td>-39.64</td>\n",
       "      <td>-38.34</td>\n",
       "    </tr>\n",
       "    <tr>\n",
       "      <th>4</th>\n",
       "      <td>0</td>\n",
       "      <td>15</td>\n",
       "      <td>1993.120191</td>\n",
       "      <td>446813</td>\n",
       "      <td>321635.81</td>\n",
       "      <td>-37.86</td>\n",
       "      <td>90.26</td>\n",
       "      <td>-38.75</td>\n",
       "      <td>-37.83</td>\n",
       "      <td>90.25</td>\n",
       "      <td>-38.72</td>\n",
       "      <td>-37.21</td>\n",
       "    </tr>\n",
       "    <tr>\n",
       "      <th>...</th>\n",
       "      <td>...</td>\n",
       "      <td>...</td>\n",
       "      <td>...</td>\n",
       "      <td>...</td>\n",
       "      <td>...</td>\n",
       "      <td>...</td>\n",
       "      <td>...</td>\n",
       "      <td>...</td>\n",
       "      <td>...</td>\n",
       "      <td>...</td>\n",
       "      <td>...</td>\n",
       "      <td>...</td>\n",
       "    </tr>\n",
       "    <tr>\n",
       "      <th>1014</th>\n",
       "      <td>0</td>\n",
       "      <td>1026</td>\n",
       "      <td>2020.567178</td>\n",
       "      <td>455026</td>\n",
       "      <td>333473.59</td>\n",
       "      <td>49.79</td>\n",
       "      <td>84.49</td>\n",
       "      <td>49.40</td>\n",
       "      <td>56.51</td>\n",
       "      <td>84.78</td>\n",
       "      <td>56.12</td>\n",
       "      <td>56.51</td>\n",
       "    </tr>\n",
       "    <tr>\n",
       "      <th>1015</th>\n",
       "      <td>0</td>\n",
       "      <td>1027</td>\n",
       "      <td>2020.594270</td>\n",
       "      <td>454770</td>\n",
       "      <td>334379.91</td>\n",
       "      <td>50.71</td>\n",
       "      <td>86.39</td>\n",
       "      <td>50.07</td>\n",
       "      <td>57.44</td>\n",
       "      <td>86.92</td>\n",
       "      <td>56.80</td>\n",
       "      <td>56.08</td>\n",
       "    </tr>\n",
       "    <tr>\n",
       "      <th>1016</th>\n",
       "      <td>0</td>\n",
       "      <td>1028</td>\n",
       "      <td>2020.621362</td>\n",
       "      <td>447970</td>\n",
       "      <td>330607.00</td>\n",
       "      <td>49.87</td>\n",
       "      <td>85.62</td>\n",
       "      <td>50.55</td>\n",
       "      <td>56.61</td>\n",
       "      <td>85.93</td>\n",
       "      <td>57.28</td>\n",
       "      <td>55.43</td>\n",
       "    </tr>\n",
       "    <tr>\n",
       "      <th>1017</th>\n",
       "      <td>0</td>\n",
       "      <td>1029</td>\n",
       "      <td>2020.648454</td>\n",
       "      <td>445963</td>\n",
       "      <td>330331.19</td>\n",
       "      <td>53.62</td>\n",
       "      <td>87.64</td>\n",
       "      <td>50.89</td>\n",
       "      <td>60.38</td>\n",
       "      <td>87.96</td>\n",
       "      <td>57.62</td>\n",
       "      <td>54.72</td>\n",
       "    </tr>\n",
       "    <tr>\n",
       "      <th>1018</th>\n",
       "      <td>0</td>\n",
       "      <td>1030</td>\n",
       "      <td>2020.675546</td>\n",
       "      <td>447535</td>\n",
       "      <td>330834.69</td>\n",
       "      <td>55.82</td>\n",
       "      <td>89.72</td>\n",
       "      <td>51.11</td>\n",
       "      <td>62.56</td>\n",
       "      <td>90.01</td>\n",
       "      <td>57.85</td>\n",
       "      <td>54.03</td>\n",
       "    </tr>\n",
       "  </tbody>\n",
       "</table>\n",
       "<p>1019 rows × 12 columns</p>\n",
       "</div>"
      ],
      "text/plain": [
       "      altimeter_type  cycle         year  observation_count  \\\n",
       "0                  0     11  1993.011526             452600   \n",
       "1                  0     12  1993.038692             447591   \n",
       "2                  0     13  1993.065858             459462   \n",
       "3                  0     14  1993.093025             410064   \n",
       "4                  0     15  1993.120191             446813   \n",
       "...              ...    ...          ...                ...   \n",
       "1014               0   1026  2020.567178             455026   \n",
       "1015               0   1027  2020.594270             454770   \n",
       "1016               0   1028  2020.621362             447970   \n",
       "1017               0   1029  2020.648454             445963   \n",
       "1018               0   1030  2020.675546             447535   \n",
       "\n",
       "      observation_count_weighted  gmsl_variation  gmsl_variation_std  \\\n",
       "0                      327401.31          -38.59               89.86   \n",
       "1                      324498.41          -41.97               90.86   \n",
       "2                      333018.19          -41.93               87.27   \n",
       "3                      297483.19          -42.67               90.75   \n",
       "4                      321635.81          -37.86               90.26   \n",
       "...                          ...             ...                 ...   \n",
       "1014                   333473.59           49.79               84.49   \n",
       "1015                   334379.91           50.71               86.39   \n",
       "1016                   330607.00           49.87               85.62   \n",
       "1017                   330331.19           53.62               87.64   \n",
       "1018                   330834.69           55.82               89.72   \n",
       "\n",
       "      gmsl_variation_smooth  gmsl_variation_with_gia  \\\n",
       "0                    -38.76                   -38.59   \n",
       "1                    -39.78                   -41.97   \n",
       "2                    -39.62                   -41.91   \n",
       "3                    -39.67                   -42.65   \n",
       "4                    -38.75                   -37.83   \n",
       "...                     ...                      ...   \n",
       "1014                  49.40                    56.51   \n",
       "1015                  50.07                    57.44   \n",
       "1016                  50.55                    56.61   \n",
       "1017                  50.89                    60.38   \n",
       "1018                  51.11                    62.56   \n",
       "\n",
       "      gmsl_variation_with_gia_std  gmsl_variation_with_gia_smooth  \\\n",
       "0                           89.86                          -38.75   \n",
       "1                           90.86                          -39.77   \n",
       "2                           87.27                          -39.61   \n",
       "3                           90.74                          -39.64   \n",
       "4                           90.25                          -38.72   \n",
       "...                           ...                             ...   \n",
       "1014                        84.78                           56.12   \n",
       "1015                        86.92                           56.80   \n",
       "1016                        85.93                           57.28   \n",
       "1017                        87.96                           57.62   \n",
       "1018                        90.01                           57.85   \n",
       "\n",
       "      gmsl_variation_with_gia_smooth_and_signals_removed  \n",
       "0                                                -38.57   \n",
       "1                                                -39.11   \n",
       "2                                                -38.58   \n",
       "3                                                -38.34   \n",
       "4                                                -37.21   \n",
       "...                                                 ...   \n",
       "1014                                              56.51   \n",
       "1015                                              56.08   \n",
       "1016                                              55.43   \n",
       "1017                                              54.72   \n",
       "1018                                              54.03   \n",
       "\n",
       "[1019 rows x 12 columns]"
      ]
     },
     "execution_count": 9,
     "metadata": {},
     "output_type": "execute_result"
    }
   ],
   "source": [
    "df = pd.read_fwf(StringIO(\"\\n\".join(lns)), names=column_names, infer_nrows=len(lns))\n",
    "\n",
    "df"
   ]
  },
  {
   "cell_type": "markdown",
   "metadata": {},
   "source": [
    "**Interpreting time (`year`)**\n",
    "\n",
    "The time extent of the dataset in year fractions:"
   ]
  },
  {
   "cell_type": "code",
   "execution_count": 10,
   "metadata": {
    "ExecuteTime": {
     "end_time": "2021-01-08T03:31:58.143143Z",
     "start_time": "2021-01-08T03:31:58.139422Z"
    }
   },
   "outputs": [
    {
     "data": {
      "text/plain": [
       "(1993.0115260000002, 2020.6755460000002)"
      ]
     },
     "execution_count": 10,
     "metadata": {},
     "output_type": "execute_result"
    }
   ],
   "source": [
    "df.year.min(), df.year.max()"
   ]
  },
  {
   "cell_type": "markdown",
   "metadata": {
    "ExecuteTime": {
     "end_time": "2020-12-15T23:55:27.084938Z",
     "start_time": "2020-12-15T23:55:27.082559Z"
    }
   },
   "source": [
    "A function to convert the fractional years to timestamps:"
   ]
  },
  {
   "cell_type": "code",
   "execution_count": 11,
   "metadata": {
    "ExecuteTime": {
     "end_time": "2021-01-08T03:31:58.150329Z",
     "start_time": "2021-01-08T03:31:58.144632Z"
    }
   },
   "outputs": [
    {
     "data": {
      "text/plain": [
       "('1993-01-05 04:58:03', '2020-09-04 05:59:45')"
      ]
     },
     "execution_count": 11,
     "metadata": {},
     "output_type": "execute_result"
    }
   ],
   "source": [
    "def _frac_year_to_dt(x):\n",
    "    year = int(x)\n",
    "    base = datetime(year, 1, 1)\n",
    "    remainder = x - year\n",
    "    result = base + timedelta(seconds=(base.replace(year=base.year + 1) - base).total_seconds() * remainder)\n",
    "    return result\n",
    "\n",
    "(\n",
    "    _frac_year_to_dt(df.year.min()).strftime(\"%Y-%m-%d %H:%M:%S\"),\n",
    "    _frac_year_to_dt(df.year.max()).strftime(\"%Y-%m-%d %H:%M:%S\")\n",
    ")"
   ]
  },
  {
   "cell_type": "markdown",
   "metadata": {},
   "source": [
    "Apply the new function `_frac_year_to_dt` to the `year` column of the data frame, which should return realistic  dates (between 1993 and 2020)."
   ]
  },
  {
   "cell_type": "code",
   "execution_count": 12,
   "metadata": {
    "ExecuteTime": {
     "end_time": "2021-01-08T03:31:58.159231Z",
     "start_time": "2021-01-08T03:31:58.151712Z"
    }
   },
   "outputs": [
    {
     "data": {
      "text/plain": [
       "0      1993-01-05 04:58:03.936007\n",
       "1      1993-01-15 02:56:30.912003\n",
       "2      1993-01-25 00:54:57.887998\n",
       "3      1993-02-03 22:53:56.399997\n",
       "4      1993-02-13 20:52:23.375999\n",
       "                  ...            \n",
       "1014   2020-07-26 14:05:29.587200\n",
       "1015   2020-08-05 12:04:03.647994\n",
       "1016   2020-08-15 10:02:37.708803\n",
       "1017   2020-08-25 08:01:11.769597\n",
       "1018   2020-09-04 05:59:45.830405\n",
       "Name: year, Length: 1019, dtype: datetime64[ns]"
      ]
     },
     "execution_count": 12,
     "metadata": {},
     "output_type": "execute_result"
    }
   ],
   "source": [
    "dates = df['year'].apply(_frac_year_to_dt)\n",
    "\n",
    "dates"
   ]
  },
  {
   "cell_type": "markdown",
   "metadata": {
    "ExecuteTime": {
     "end_time": "2020-12-16T00:24:16.552041Z",
     "start_time": "2020-12-16T00:24:16.549478Z"
    }
   },
   "source": [
    "Rename the series to *time* so it doesn't conflict with the existing *year* column:"
   ]
  },
  {
   "cell_type": "code",
   "execution_count": 13,
   "metadata": {
    "ExecuteTime": {
     "end_time": "2021-01-08T03:31:58.163011Z",
     "start_time": "2021-01-08T03:31:58.160893Z"
    }
   },
   "outputs": [],
   "source": [
    "dates.name = \"time\""
   ]
  },
  {
   "cell_type": "markdown",
   "metadata": {},
   "source": [
    "*This next step is key for convenient data transformations and plotting.*\n",
    "\n",
    "Now set the datetimes as the new index for the data frame using the `pandas.DataFrame.set_index` method, which replaces the existing integer indices:"
   ]
  },
  {
   "cell_type": "code",
   "execution_count": 14,
   "metadata": {
    "ExecuteTime": {
     "end_time": "2021-01-08T03:31:58.184664Z",
     "start_time": "2021-01-08T03:31:58.164536Z"
    }
   },
   "outputs": [
    {
     "data": {
      "text/html": [
       "<div>\n",
       "<style scoped>\n",
       "    .dataframe tbody tr th:only-of-type {\n",
       "        vertical-align: middle;\n",
       "    }\n",
       "\n",
       "    .dataframe tbody tr th {\n",
       "        vertical-align: top;\n",
       "    }\n",
       "\n",
       "    .dataframe thead th {\n",
       "        text-align: right;\n",
       "    }\n",
       "</style>\n",
       "<table border=\"1\" class=\"dataframe\">\n",
       "  <thead>\n",
       "    <tr style=\"text-align: right;\">\n",
       "      <th></th>\n",
       "      <th>altimeter_type</th>\n",
       "      <th>cycle</th>\n",
       "      <th>year</th>\n",
       "      <th>observation_count</th>\n",
       "      <th>observation_count_weighted</th>\n",
       "      <th>gmsl_variation</th>\n",
       "      <th>gmsl_variation_std</th>\n",
       "      <th>gmsl_variation_smooth</th>\n",
       "      <th>gmsl_variation_with_gia</th>\n",
       "      <th>gmsl_variation_with_gia_std</th>\n",
       "      <th>gmsl_variation_with_gia_smooth</th>\n",
       "      <th>gmsl_variation_with_gia_smooth_and_signals_removed</th>\n",
       "    </tr>\n",
       "    <tr>\n",
       "      <th>time</th>\n",
       "      <th></th>\n",
       "      <th></th>\n",
       "      <th></th>\n",
       "      <th></th>\n",
       "      <th></th>\n",
       "      <th></th>\n",
       "      <th></th>\n",
       "      <th></th>\n",
       "      <th></th>\n",
       "      <th></th>\n",
       "      <th></th>\n",
       "      <th></th>\n",
       "    </tr>\n",
       "  </thead>\n",
       "  <tbody>\n",
       "    <tr>\n",
       "      <th>1993-01-05 04:58:03.936007</th>\n",
       "      <td>0</td>\n",
       "      <td>11</td>\n",
       "      <td>1993.011526</td>\n",
       "      <td>452600</td>\n",
       "      <td>327401.31</td>\n",
       "      <td>-38.59</td>\n",
       "      <td>89.86</td>\n",
       "      <td>-38.76</td>\n",
       "      <td>-38.59</td>\n",
       "      <td>89.86</td>\n",
       "      <td>-38.75</td>\n",
       "      <td>-38.57</td>\n",
       "    </tr>\n",
       "    <tr>\n",
       "      <th>1993-01-15 02:56:30.912003</th>\n",
       "      <td>0</td>\n",
       "      <td>12</td>\n",
       "      <td>1993.038692</td>\n",
       "      <td>447591</td>\n",
       "      <td>324498.41</td>\n",
       "      <td>-41.97</td>\n",
       "      <td>90.86</td>\n",
       "      <td>-39.78</td>\n",
       "      <td>-41.97</td>\n",
       "      <td>90.86</td>\n",
       "      <td>-39.77</td>\n",
       "      <td>-39.11</td>\n",
       "    </tr>\n",
       "    <tr>\n",
       "      <th>1993-01-25 00:54:57.887998</th>\n",
       "      <td>0</td>\n",
       "      <td>13</td>\n",
       "      <td>1993.065858</td>\n",
       "      <td>459462</td>\n",
       "      <td>333018.19</td>\n",
       "      <td>-41.93</td>\n",
       "      <td>87.27</td>\n",
       "      <td>-39.62</td>\n",
       "      <td>-41.91</td>\n",
       "      <td>87.27</td>\n",
       "      <td>-39.61</td>\n",
       "      <td>-38.58</td>\n",
       "    </tr>\n",
       "    <tr>\n",
       "      <th>1993-02-03 22:53:56.399997</th>\n",
       "      <td>0</td>\n",
       "      <td>14</td>\n",
       "      <td>1993.093025</td>\n",
       "      <td>410064</td>\n",
       "      <td>297483.19</td>\n",
       "      <td>-42.67</td>\n",
       "      <td>90.75</td>\n",
       "      <td>-39.67</td>\n",
       "      <td>-42.65</td>\n",
       "      <td>90.74</td>\n",
       "      <td>-39.64</td>\n",
       "      <td>-38.34</td>\n",
       "    </tr>\n",
       "    <tr>\n",
       "      <th>1993-02-13 20:52:23.375999</th>\n",
       "      <td>0</td>\n",
       "      <td>15</td>\n",
       "      <td>1993.120191</td>\n",
       "      <td>446813</td>\n",
       "      <td>321635.81</td>\n",
       "      <td>-37.86</td>\n",
       "      <td>90.26</td>\n",
       "      <td>-38.75</td>\n",
       "      <td>-37.83</td>\n",
       "      <td>90.25</td>\n",
       "      <td>-38.72</td>\n",
       "      <td>-37.21</td>\n",
       "    </tr>\n",
       "    <tr>\n",
       "      <th>...</th>\n",
       "      <td>...</td>\n",
       "      <td>...</td>\n",
       "      <td>...</td>\n",
       "      <td>...</td>\n",
       "      <td>...</td>\n",
       "      <td>...</td>\n",
       "      <td>...</td>\n",
       "      <td>...</td>\n",
       "      <td>...</td>\n",
       "      <td>...</td>\n",
       "      <td>...</td>\n",
       "      <td>...</td>\n",
       "    </tr>\n",
       "    <tr>\n",
       "      <th>2020-07-26 14:05:29.587200</th>\n",
       "      <td>0</td>\n",
       "      <td>1026</td>\n",
       "      <td>2020.567178</td>\n",
       "      <td>455026</td>\n",
       "      <td>333473.59</td>\n",
       "      <td>49.79</td>\n",
       "      <td>84.49</td>\n",
       "      <td>49.40</td>\n",
       "      <td>56.51</td>\n",
       "      <td>84.78</td>\n",
       "      <td>56.12</td>\n",
       "      <td>56.51</td>\n",
       "    </tr>\n",
       "    <tr>\n",
       "      <th>2020-08-05 12:04:03.647994</th>\n",
       "      <td>0</td>\n",
       "      <td>1027</td>\n",
       "      <td>2020.594270</td>\n",
       "      <td>454770</td>\n",
       "      <td>334379.91</td>\n",
       "      <td>50.71</td>\n",
       "      <td>86.39</td>\n",
       "      <td>50.07</td>\n",
       "      <td>57.44</td>\n",
       "      <td>86.92</td>\n",
       "      <td>56.80</td>\n",
       "      <td>56.08</td>\n",
       "    </tr>\n",
       "    <tr>\n",
       "      <th>2020-08-15 10:02:37.708803</th>\n",
       "      <td>0</td>\n",
       "      <td>1028</td>\n",
       "      <td>2020.621362</td>\n",
       "      <td>447970</td>\n",
       "      <td>330607.00</td>\n",
       "      <td>49.87</td>\n",
       "      <td>85.62</td>\n",
       "      <td>50.55</td>\n",
       "      <td>56.61</td>\n",
       "      <td>85.93</td>\n",
       "      <td>57.28</td>\n",
       "      <td>55.43</td>\n",
       "    </tr>\n",
       "    <tr>\n",
       "      <th>2020-08-25 08:01:11.769597</th>\n",
       "      <td>0</td>\n",
       "      <td>1029</td>\n",
       "      <td>2020.648454</td>\n",
       "      <td>445963</td>\n",
       "      <td>330331.19</td>\n",
       "      <td>53.62</td>\n",
       "      <td>87.64</td>\n",
       "      <td>50.89</td>\n",
       "      <td>60.38</td>\n",
       "      <td>87.96</td>\n",
       "      <td>57.62</td>\n",
       "      <td>54.72</td>\n",
       "    </tr>\n",
       "    <tr>\n",
       "      <th>2020-09-04 05:59:45.830405</th>\n",
       "      <td>0</td>\n",
       "      <td>1030</td>\n",
       "      <td>2020.675546</td>\n",
       "      <td>447535</td>\n",
       "      <td>330834.69</td>\n",
       "      <td>55.82</td>\n",
       "      <td>89.72</td>\n",
       "      <td>51.11</td>\n",
       "      <td>62.56</td>\n",
       "      <td>90.01</td>\n",
       "      <td>57.85</td>\n",
       "      <td>54.03</td>\n",
       "    </tr>\n",
       "  </tbody>\n",
       "</table>\n",
       "<p>1019 rows × 12 columns</p>\n",
       "</div>"
      ],
      "text/plain": [
       "                            altimeter_type  cycle         year  \\\n",
       "time                                                             \n",
       "1993-01-05 04:58:03.936007               0     11  1993.011526   \n",
       "1993-01-15 02:56:30.912003               0     12  1993.038692   \n",
       "1993-01-25 00:54:57.887998               0     13  1993.065858   \n",
       "1993-02-03 22:53:56.399997               0     14  1993.093025   \n",
       "1993-02-13 20:52:23.375999               0     15  1993.120191   \n",
       "...                                    ...    ...          ...   \n",
       "2020-07-26 14:05:29.587200               0   1026  2020.567178   \n",
       "2020-08-05 12:04:03.647994               0   1027  2020.594270   \n",
       "2020-08-15 10:02:37.708803               0   1028  2020.621362   \n",
       "2020-08-25 08:01:11.769597               0   1029  2020.648454   \n",
       "2020-09-04 05:59:45.830405               0   1030  2020.675546   \n",
       "\n",
       "                            observation_count  observation_count_weighted  \\\n",
       "time                                                                        \n",
       "1993-01-05 04:58:03.936007             452600                   327401.31   \n",
       "1993-01-15 02:56:30.912003             447591                   324498.41   \n",
       "1993-01-25 00:54:57.887998             459462                   333018.19   \n",
       "1993-02-03 22:53:56.399997             410064                   297483.19   \n",
       "1993-02-13 20:52:23.375999             446813                   321635.81   \n",
       "...                                       ...                         ...   \n",
       "2020-07-26 14:05:29.587200             455026                   333473.59   \n",
       "2020-08-05 12:04:03.647994             454770                   334379.91   \n",
       "2020-08-15 10:02:37.708803             447970                   330607.00   \n",
       "2020-08-25 08:01:11.769597             445963                   330331.19   \n",
       "2020-09-04 05:59:45.830405             447535                   330834.69   \n",
       "\n",
       "                            gmsl_variation  gmsl_variation_std  \\\n",
       "time                                                             \n",
       "1993-01-05 04:58:03.936007          -38.59               89.86   \n",
       "1993-01-15 02:56:30.912003          -41.97               90.86   \n",
       "1993-01-25 00:54:57.887998          -41.93               87.27   \n",
       "1993-02-03 22:53:56.399997          -42.67               90.75   \n",
       "1993-02-13 20:52:23.375999          -37.86               90.26   \n",
       "...                                    ...                 ...   \n",
       "2020-07-26 14:05:29.587200           49.79               84.49   \n",
       "2020-08-05 12:04:03.647994           50.71               86.39   \n",
       "2020-08-15 10:02:37.708803           49.87               85.62   \n",
       "2020-08-25 08:01:11.769597           53.62               87.64   \n",
       "2020-09-04 05:59:45.830405           55.82               89.72   \n",
       "\n",
       "                            gmsl_variation_smooth  gmsl_variation_with_gia  \\\n",
       "time                                                                         \n",
       "1993-01-05 04:58:03.936007                 -38.76                   -38.59   \n",
       "1993-01-15 02:56:30.912003                 -39.78                   -41.97   \n",
       "1993-01-25 00:54:57.887998                 -39.62                   -41.91   \n",
       "1993-02-03 22:53:56.399997                 -39.67                   -42.65   \n",
       "1993-02-13 20:52:23.375999                 -38.75                   -37.83   \n",
       "...                                           ...                      ...   \n",
       "2020-07-26 14:05:29.587200                  49.40                    56.51   \n",
       "2020-08-05 12:04:03.647994                  50.07                    57.44   \n",
       "2020-08-15 10:02:37.708803                  50.55                    56.61   \n",
       "2020-08-25 08:01:11.769597                  50.89                    60.38   \n",
       "2020-09-04 05:59:45.830405                  51.11                    62.56   \n",
       "\n",
       "                            gmsl_variation_with_gia_std  \\\n",
       "time                                                      \n",
       "1993-01-05 04:58:03.936007                        89.86   \n",
       "1993-01-15 02:56:30.912003                        90.86   \n",
       "1993-01-25 00:54:57.887998                        87.27   \n",
       "1993-02-03 22:53:56.399997                        90.74   \n",
       "1993-02-13 20:52:23.375999                        90.25   \n",
       "...                                                 ...   \n",
       "2020-07-26 14:05:29.587200                        84.78   \n",
       "2020-08-05 12:04:03.647994                        86.92   \n",
       "2020-08-15 10:02:37.708803                        85.93   \n",
       "2020-08-25 08:01:11.769597                        87.96   \n",
       "2020-09-04 05:59:45.830405                        90.01   \n",
       "\n",
       "                            gmsl_variation_with_gia_smooth  \\\n",
       "time                                                         \n",
       "1993-01-05 04:58:03.936007                          -38.75   \n",
       "1993-01-15 02:56:30.912003                          -39.77   \n",
       "1993-01-25 00:54:57.887998                          -39.61   \n",
       "1993-02-03 22:53:56.399997                          -39.64   \n",
       "1993-02-13 20:52:23.375999                          -38.72   \n",
       "...                                                    ...   \n",
       "2020-07-26 14:05:29.587200                           56.12   \n",
       "2020-08-05 12:04:03.647994                           56.80   \n",
       "2020-08-15 10:02:37.708803                           57.28   \n",
       "2020-08-25 08:01:11.769597                           57.62   \n",
       "2020-09-04 05:59:45.830405                           57.85   \n",
       "\n",
       "                            gmsl_variation_with_gia_smooth_and_signals_removed  \n",
       "time                                                                            \n",
       "1993-01-05 04:58:03.936007                                             -38.57   \n",
       "1993-01-15 02:56:30.912003                                             -39.11   \n",
       "1993-01-25 00:54:57.887998                                             -38.58   \n",
       "1993-02-03 22:53:56.399997                                             -38.34   \n",
       "1993-02-13 20:52:23.375999                                             -37.21   \n",
       "...                                                                       ...   \n",
       "2020-07-26 14:05:29.587200                                              56.51   \n",
       "2020-08-05 12:04:03.647994                                              56.08   \n",
       "2020-08-15 10:02:37.708803                                              55.43   \n",
       "2020-08-25 08:01:11.769597                                              54.72   \n",
       "2020-09-04 05:59:45.830405                                              54.03   \n",
       "\n",
       "[1019 rows x 12 columns]"
      ]
     },
     "execution_count": 14,
     "metadata": {},
     "output_type": "execute_result"
    }
   ],
   "source": [
    "df = df.set_index(dates)\n",
    "df"
   ]
  },
  {
   "cell_type": "markdown",
   "metadata": {
    "ExecuteTime": {
     "end_time": "2020-12-15T23:54:30.018117Z",
     "start_time": "2020-12-15T23:54:30.014325Z"
    }
   },
   "source": [
    "Now we make a quick plot. Afterwards, we'll \"enhance\" this dataset by converting to an `xarray.Dataset` and assign some meaningful metadata.\n",
    "\n",
    "\n",
    "### plot\n",
    "\n",
    "*GMSL variations over time with annual and semi-annual signals removed, and with global isostatic adjustment applied (GIA):*"
   ]
  },
  {
   "cell_type": "code",
   "execution_count": 15,
   "metadata": {
    "ExecuteTime": {
     "end_time": "2021-01-08T03:31:58.460424Z",
     "start_time": "2021-01-08T03:31:58.186364Z"
    },
    "scrolled": false
   },
   "outputs": [
    {
     "data": {
      "image/png": "[encoded data removed]",
      "text/plain": [
       "<Figure size 1008x504 with 1 Axes>"
      ]
     },
     "metadata": {
      "needs_background": "light"
     },
     "output_type": "display_data"
    }
   ],
   "source": [
    "# Plot the GMSL variation (with GIA and annual/semiannual signal removed):\n",
    "ax = df.gmsl_variation_with_gia.plot(figsize=(14, 7), zorder=2)\n",
    "\n",
    "# Now plot smoothed + signals removed trend on top:\n",
    "df.gmsl_variation_with_gia_smooth_and_signals_removed.plot(zorder=3)\n",
    "\n",
    "# Get the upper and lower bounds of the error region:\n",
    "error_upper = df.gmsl_variation_with_gia + df.gmsl_variation_with_gia_std\n",
    "error_lower = df.gmsl_variation_with_gia - df.gmsl_variation_with_gia_std\n",
    "\n",
    "# Plot the standard deviation of the GMSL variation (no GIA) as error region.\n",
    "#ax.fill_between(df.index, error_upper, error_lower, color=\"white\", alpha=1, zorder=1)\n",
    "\n",
    "# Add two footnotes about the data processing:\n",
    "plt.figtext(0.15, 0.83, '  * 1993.0 to 2020.68 linear rate = 3.34 +/- 0.4 mm/yr')\n",
    "plt.figtext(0.15, 0.79, ' ** Annual and semi-annual signal removed')\n",
    "plt.figtext(0.15, 0.75, '*** Global Isostatic Adjustment (GIA) applied')\n",
    "\n",
    "# Configure plot title, x and y axis labels and limits, and other aesthetics:\n",
    "ax.set_title(\"GMSL variations with respect to a 20-year TOPEX/Jason collinear mean\", pad=10)\n",
    "ax.set_ylabel(\"Sea Height Variation (mm)\")\n",
    "ax.set_xlim(df.index[0], df.index[-1])\n",
    "ax.set_xlabel(None)\n",
    "ax.set_ylim(-60, 75)\n",
    "ax.grid(alpha=0.25)\n",
    "ax.legend(loc=\"lower right\")\n",
    "\n",
    "plt.show()"
   ]
  },
  {
   "cell_type": "markdown",
   "metadata": {},
   "source": [
    "**Time series structure**\n",
    "\n",
    "The baseline v5.0 merged file is comprised of 1,019 (was 989) 10-day repeat cycles:\n",
    "\n",
    "```\n",
    " 001 –  355  TOPEX_Poseidon\n",
    " 356 –  582  Jason_1\n",
    " 583 –  865  Jason_2\n",
    " 866 – 1020  Jason_3\n",
    "```"
   ]
  },
  {
   "cell_type": "markdown",
   "metadata": {},
   "source": [
    "## Reformat\n",
    "\n",
    "This next section of the dataset release demo converts the table into an xarray dataset and loads it with rich metadata from the ASCII file header. You might want to take this step if you need to analyze the GMSL data alongside other datasets stored in common geoscience data formats like netCDF and GeoTIFF.\n",
    "\n",
    "### Optionally, convert `pandas` to `xarray`\n",
    "\n",
    "As an end user, you may need to leverage other Python packages besides pandas for your analysis. You may also benefit from writing the data to disk in another format that's more convenient to use or consistent with other datasets that your analysis demands. \n",
    "\n",
    "Now we reformat the `pandas.DataFrame` into an `xarray.Dataset` and enrich it with descriptive metadata from the ASCII file header. Then, we write the dataset to disk in netCDF format with CF compliant metadata included.\n",
    "\n",
    "First, call the xarray convenience function `xarray.from_dataframe` to seamlessly convert the data frame to an `xarray.Dataset`:"
   ]
  },
  {
   "cell_type": "code",
   "execution_count": 16,
   "metadata": {
    "ExecuteTime": {
     "end_time": "2021-01-08T03:31:58.476636Z",
     "start_time": "2021-01-08T03:31:58.461923Z"
    }
   },
   "outputs": [
    {
     "name": "stdout",
     "output_type": "stream",
     "text": [
      "<xarray.Dataset>\n",
      "Dimensions:                                             (time: 1019)\n",
      "Coordinates:\n",
      "  * time                                                (time) datetime64[ns] ...\n",
      "Data variables:\n",
      "    altimeter_type                                      (time) int64 0 0 ... 0 0\n",
      "    cycle                                               (time) int64 11 ... 1030\n",
      "    year                                                (time) float64 1.993e...\n",
      "    observation_count                                   (time) int64 452600 ....\n",
      "    observation_count_weighted                          (time) float64 3.274e...\n",
      "    gmsl_variation                                      (time) float64 -38.59...\n",
      "    gmsl_variation_std                                  (time) float64 89.86 ...\n",
      "    gmsl_variation_smooth                               (time) float64 -38.76...\n",
      "    gmsl_variation_with_gia                             (time) float64 -38.59...\n",
      "    gmsl_variation_with_gia_std                         (time) float64 89.86 ...\n",
      "    gmsl_variation_with_gia_smooth                      (time) float64 -38.75...\n",
      "    gmsl_variation_with_gia_smooth_and_signals_removed  (time) float64 -38.57...\n"
     ]
    }
   ],
   "source": [
    "ds = df.to_xarray()\n",
    "\n",
    "print(ds)"
   ]
  },
  {
   "cell_type": "markdown",
   "metadata": {},
   "source": [
    "### Enrich dataset and variable metadata\n",
    "\n",
    "Now we add the basic CF treatments to the variables and the dataset. We'll generally follow the guidelines listed here on the PO.DAAC metadata best practices page: https://podaac.jpl.nasa.gov/PO.DAAC_DataManagementPractices#Metadata%20Conventions\n",
    "\n",
    "The time variable is a big one-we'll start there.\n",
    "\n",
    "**Variables**\n",
    "\n",
    "* the *time* variable\n",
    "\n",
    "Let's create a valid CF time reference that indexes the data arrays against an epoch of `1992-01-01 00:00:00` (the epoch used in other MEaSUREs-SSH products).\n",
    "\n",
    "Define another function to manipulate the values in the index of the data frame:"
   ]
  },
  {
   "cell_type": "code",
   "execution_count": 17,
   "metadata": {
    "ExecuteTime": {
     "end_time": "2021-01-08T03:31:58.482624Z",
     "start_time": "2021-01-08T03:31:58.478134Z"
    }
   },
   "outputs": [
    {
     "data": {
      "text/plain": [
       "31985883.936007"
      ]
     },
     "execution_count": 17,
     "metadata": {},
     "output_type": "execute_result"
    }
   ],
   "source": [
    "epoch = \"1992-01-01 00:00:00\"\n",
    "\n",
    "def _time_to_seconds_since_epoch(x, fmt: str=\"%Y-%m-%d %H:%M:%S\"):\n",
    "    return (x-datetime.strptime(epoch, fmt)).total_seconds()\n",
    "\n",
    "_time_to_seconds_since_epoch(df.index[0])"
   ]
  },
  {
   "cell_type": "markdown",
   "metadata": {
    "ExecuteTime": {
     "end_time": "2020-12-16T01:53:00.636812Z",
     "start_time": "2020-12-16T01:53:00.634141Z"
    }
   },
   "source": [
    "The value shown above should equal the number of seconds since the epoch for the first timestep in the GMSL series.\n",
    "\n",
    "Apply the function over the entire index of the data frame:"
   ]
  },
  {
   "cell_type": "code",
   "execution_count": 18,
   "metadata": {
    "ExecuteTime": {
     "end_time": "2021-01-08T03:31:58.521879Z",
     "start_time": "2021-01-08T03:31:58.483979Z"
    }
   },
   "outputs": [
    {
     "data": {
      "text/plain": [
       "time\n",
       "1993-01-05 04:58:03.936007    3.198588e+07\n",
       "1993-01-15 02:56:30.912003    3.284259e+07\n",
       "1993-01-25 00:54:57.887998    3.369930e+07\n",
       "1993-02-03 22:53:56.399997    3.455604e+07\n",
       "1993-02-13 20:52:23.375999    3.541274e+07\n",
       "                                  ...     \n",
       "2020-07-26 14:05:29.587200    9.015483e+08\n",
       "2020-08-05 12:04:03.647994    9.024050e+08\n",
       "2020-08-15 10:02:37.708803    9.032618e+08\n",
       "2020-08-25 08:01:11.769597    9.041185e+08\n",
       "2020-09-04 05:59:45.830405    9.049752e+08\n",
       "Name: time, Length: 1019, dtype: float64"
      ]
     },
     "execution_count": 18,
     "metadata": {},
     "output_type": "execute_result"
    }
   ],
   "source": [
    "seconds_since_epoch = df.index.to_series().apply(_time_to_seconds_since_epoch)\n",
    "\n",
    "seconds_since_epoch"
   ]
  },
  {
   "cell_type": "markdown",
   "metadata": {},
   "source": [
    "Add CF attributes to the *time* variable (except for the *units* and *calendar* which xarray likes to handle for us, like a true control freak)."
   ]
  },
  {
   "cell_type": "code",
   "execution_count": 19,
   "metadata": {
    "ExecuteTime": {
     "end_time": "2021-01-08T03:31:58.528015Z",
     "start_time": "2021-01-08T03:31:58.523364Z"
    }
   },
   "outputs": [
    {
     "name": "stdout",
     "output_type": "stream",
     "text": [
      "<xarray.DataArray 'time' (time: 1019)>\n",
      "array(['1993-01-05T04:58:03.936007000', '1993-01-15T02:56:30.912003000',\n",
      "       '1993-01-25T00:54:57.887998000', ..., '2020-08-15T10:02:37.708803000',\n",
      "       '2020-08-25T08:01:11.769597000', '2020-09-04T05:59:45.830405000'],\n",
      "      dtype='datetime64[ns]')\n",
      "Coordinates:\n",
      "  * time     (time) datetime64[ns] 1993-01-05T04:58:03.936007 ... 2020-09-04T...\n",
      "Attributes:\n",
      "    long_name:      time\n",
      "    standard_name:  time\n"
     ]
    }
   ],
   "source": [
    "ds.time.attrs = {'long_name': \"time\", 'standard_name': \"time\"}\n",
    "\n",
    "print(ds.time)"
   ]
  },
  {
   "cell_type": "markdown",
   "metadata": {
    "ExecuteTime": {
     "end_time": "2020-12-16T01:56:39.527413Z",
     "start_time": "2020-12-16T01:56:39.506764Z"
    }
   },
   "source": [
    "* variable *long_name*, *units* attributes\n",
    "\n",
    "Now assign the description of each column (taken from the ASCII file header) to the corresponding variable's metadata in the xarray dataset. It occupies the `long_name` field. Also use an integer attribute to index each variable according to the corresponding column's position in the original ASCII file."
   ]
  },
  {
   "cell_type": "code",
   "execution_count": 20,
   "metadata": {
    "ExecuteTime": {
     "end_time": "2021-01-08T03:31:58.533190Z",
     "start_time": "2021-01-08T03:31:58.529576Z"
    }
   },
   "outputs": [],
   "source": [
    "for variable, description in zip(list(df.columns), column_metadata):\n",
    "\n",
    "    # Split 'description' string into two strings: an index and details.\n",
    "    column_index, long_name = int(description[:2].strip()), description[2:].strip()\n",
    "\n",
    "    # Set the 'col_index' and 'long_name' fields for each variable:\n",
    "    ds[variable].attrs = {'column_index': column_index, 'long_name': long_name}"
   ]
  },
  {
   "cell_type": "markdown",
   "metadata": {},
   "source": [
    "*If no errors, you're good!* Live dangerously and proceed without checking your work. (We will check it in a moment.)\n",
    "\n",
    "You'll notice that the units are given in the `long_name` of each variable (almost, those that don't contain units are obvious). In the next cell, I've created an array of strings that we'll use to populate the `units` field of each variable in the same way as we did with the descriptions above:"
   ]
  },
  {
   "cell_type": "code",
   "execution_count": 21,
   "metadata": {
    "ExecuteTime": {
     "end_time": "2021-01-08T03:31:58.538244Z",
     "start_time": "2021-01-08T03:31:58.534757Z"
    }
   },
   "outputs": [],
   "source": [
    "_units = [None, None, \"year\", None, None, \"mm\", \"mm\", \"mm\", \"mm\", \"mm\", \"mm\"]\n",
    "\n",
    "for variable, units in zip(list(df.columns), _units):\n",
    "    if units:\n",
    "        ds[variable].attrs.update({'units': units})"
   ]
  },
  {
   "cell_type": "markdown",
   "metadata": {},
   "source": [
    "Hopefully there were no errors. Confirm that all the attributes look as expected for the *gmsl* variable:"
   ]
  },
  {
   "cell_type": "code",
   "execution_count": 22,
   "metadata": {
    "ExecuteTime": {
     "end_time": "2021-01-08T03:31:58.543750Z",
     "start_time": "2021-01-08T03:31:58.539868Z"
    }
   },
   "outputs": [
    {
     "name": "stdout",
     "output_type": "stream",
     "text": [
      "<xarray.DataArray 'gmsl_variation' (time: 1019)>\n",
      "array([-38.59, -41.97, -41.93, ...,  49.87,  53.62,  55.82])\n",
      "Coordinates:\n",
      "  * time     (time) datetime64[ns] 1993-01-05T04:58:03.936007 ... 2020-09-04T...\n",
      "Attributes:\n",
      "    column_index:  6\n",
      "    long_name:     GMSL (Global Isostatic Adjustment (GIA) not applied) varia...\n",
      "    units:         mm\n"
     ]
    }
   ],
   "source": [
    "print(ds['gmsl_variation'])"
   ]
  },
  {
   "cell_type": "markdown",
   "metadata": {
    "ExecuteTime": {
     "end_time": "2020-12-16T04:24:25.997322Z",
     "start_time": "2020-12-16T04:24:25.994883Z"
    }
   },
   "source": [
    "* identify the *_FillValue*\n",
    "\n",
    "One final step for variables is to define fill values. \n",
    "\n",
    "If we were planning to do some downstream processing as part of an analysis, we might want to forget about the fill value and replace them all with `numpy.nan` to ensure they're ignored in the computations. Because we plan to write this dataset to a CF-compliant netCDF, we should leave the fill values in place and specify a fill value accordingly.\n",
    "\n",
    "When writing netCDF4 files with xarray, we must specify the fill value on a per-variable basis as part of our call to the `to_netcdf` method of our xarray dataset. We'll do that later. \n",
    "\n",
    "In preparation for the final step, get the fill value from the fifth-to-last line in the header:"
   ]
  },
  {
   "cell_type": "code",
   "execution_count": 23,
   "metadata": {
    "ExecuteTime": {
     "end_time": "2021-01-08T03:31:58.552861Z",
     "start_time": "2021-01-08T03:31:58.549344Z"
    }
   },
   "outputs": [
    {
     "data": {
      "text/plain": [
       "99900.0"
      ]
     },
     "execution_count": 23,
     "metadata": {},
     "output_type": "execute_result"
    }
   ],
   "source": [
    "fill_value = float(hdr[-5].strip().split(\": \")[1])\n",
    "fill_value"
   ]
  },
  {
   "cell_type": "markdown",
   "metadata": {},
   "source": [
    "Now the variables are mostly in good shape. (You could also update the `altimetry_type` to use the CF spec for flag variables. Remember that the first column only stores a binary flag of 0 or 999.)\n",
    "\n",
    "**Global attributes**\n",
    "\n",
    "Finally, let's see what other info should be retained from the ASCII file header as global attributes in our enhanced dataset.\n",
    "\n",
    "Drop the prefixes from all the lines of the header and do some further cleanup, then select the *Abstract*, *citation*, *doi*, and *references* from the ASCII header:"
   ]
  },
  {
   "cell_type": "code",
   "execution_count": 24,
   "metadata": {
    "ExecuteTime": {
     "end_time": "2021-01-08T03:31:58.571559Z",
     "start_time": "2021-01-08T03:31:58.554887Z"
    }
   },
   "outputs": [
    {
     "name": "stdout",
     "output_type": "stream",
     "text": [
      "<xarray.Dataset>\n",
      "Dimensions:                                             (time: 1019)\n",
      "Coordinates:\n",
      "  * time                                                (time) datetime64[ns] ...\n",
      "Data variables:\n",
      "    altimeter_type                                      (time) int64 0 0 ... 0 0\n",
      "    cycle                                               (time) int64 11 ... 1030\n",
      "    year                                                (time) float64 1.993e...\n",
      "    observation_count                                   (time) int64 452600 ....\n",
      "    observation_count_weighted                          (time) float64 3.274e...\n",
      "    gmsl_variation                                      (time) float64 -38.59...\n",
      "    gmsl_variation_std                                  (time) float64 89.86 ...\n",
      "    gmsl_variation_smooth                               (time) float64 -38.76...\n",
      "    gmsl_variation_with_gia                             (time) float64 -38.59...\n",
      "    gmsl_variation_with_gia_std                         (time) float64 89.86 ...\n",
      "    gmsl_variation_with_gia_smooth                      (time) float64 -38.75...\n",
      "    gmsl_variation_with_gia_smooth_and_signals_removed  (time) float64 -38.57...\n",
      "Attributes:\n",
      "    summary:                 This file contains Global Mean Sea Level (GMSL) ...\n",
      "    id:                      10.5067/GMSLM-TJ150\n",
      "    references:              Beckley, B. D., Callahan, P. S., Hancock, D. W.,...\n",
      "    comment:                 TOPEX/Jason 1996-2016 collinear mean reference d...\n",
      "    time_coverage_start:     1993-01-05T04:58:03\n",
      "    time_coverage_end:       2020-09-04T05:59:45\n",
      "    title:                   Global Mean Sea Level Trend from Integrated Mult...\n",
      "    institution:             NASA Goddard Space Flight Center\n",
      "    reference_document:      Integrated Multi-Mission Ocean Altimeter Data fo...\n",
      "    creator_name:            Brian D. Beckley, Richard D. Ray\n",
      "    creator_email:           Brian.D.Beckley@nasa.gov, Richard.D.Ray@nasa.gov\n",
      "    project_name:            NASA MEaSUREs - NNH06ZDA001N\n",
      "    mission_name:            Integrated T/P, Jason-1, OSTM/Jason-2 and Jason-...\n",
      "    altimeter_sensor_name:   TOPEX-A, TOPEX-B, Poseidon-1, Poseidon-2, Poseid...\n",
      "    radiometer_sensor_name:  TMR (TOPEX/Poseidon Microwave Radiometer), JMR (...\n",
      "    source_TOPEX:            TOPEX/Poseidon MGDR_B: Benada, J.R. 1997. PO.DAA...\n",
      "    source_Jason-1:          Jason-1 GDR_E: AVISO and PODAAC User Handbook. I...\n",
      "    source_OSTM:             OSTM GDR_D: OSTM/Jason-2 Products Handbook, CNES...\n",
      "    source_Jason-3:          Jason-3 GDR_D: Jason-3 Products Handbook, CNES :...\n",
      "    Conventions:             CF-1.6\n",
      "    keywords:                EARTH SCIENCE > OCEANS > SEA SURFACE TOPOGRAPHY ...\n",
      "    keywords_vocabulary:     GCMD Science Keywords\n"
     ]
    }
   ],
   "source": [
    "# Clean up the lines in the header in a nested for loop:\n",
    "hdr = [m for m in [l.replace(\"HDR\", \"\") for l in hdr] if m!='']\n",
    "\n",
    "# Get four references from the header as a list of strings:\n",
    "refs = [\"\".join(hdr[13:16]), \"\".join(hdr[16:19]), hdr[18], hdr[11]]\n",
    "\n",
    "# Select global attributes from the header into a Python dict:\n",
    "global_attributes = {\n",
    "    'summary': \"\".join(hdr[1:10]).strip().replace(\"  \", \" \"),\n",
    "    'id': hdr[11].strip().split(\"http://dx.doi.org/\")[1][:-1],\n",
    "    'references': \"; \".join([r.strip().replace(\"DOI:\", \"https://doi.org/\") for r in refs]),\n",
    "    'comment': hdr[-3].strip(),\n",
    "    'time_coverage_start': np.datetime_as_string(ds.time.min().data).split(\".\")[0],\n",
    "    'time_coverage_end': np.datetime_as_string(ds.time.max().data).split(\".\")[0],\n",
    "}\n",
    "\n",
    "# Add some static metadata copied from another MEaSUREs-SSH dataset:\n",
    "global_attributes.update({\n",
    "    'title': \"Global Mean Sea Level Trend from Integrated Multi-Mission Ocean Altimeters TOPEX/Poseidon Jason-1 and OSTM/Jason-2 Version 5\",\n",
    "    'institution': \"NASA Goddard Space Flight Center\",\n",
    "    'reference_document': \"Integrated Multi-Mission Ocean Altimeter Data for Climate Research TOPEX/Poseidon, Jason-1, OSTM/Jason-2 and Jason-3 User\\'s Handbook, Version 4\",\n",
    "    'creator_name': \"Brian D. Beckley, Richard D. Ray\",\n",
    "    'creator_email': \"Brian.D.Beckley@nasa.gov, Richard.D.Ray@nasa.gov\",\n",
    "    'project_name': \"NASA MEaSUREs - NNH06ZDA001N\",\n",
    "    'mission_name': \"Integrated T/P, Jason-1, OSTM/Jason-2 and Jason-3 Altimetry\",\n",
    "    'altimeter_sensor_name': \"TOPEX-A, TOPEX-B, Poseidon-1, Poseidon-2, Poseidon-3, Poseidon-3B\",\n",
    "    'radiometer_sensor_name': \"TMR (TOPEX/Poseidon Microwave Radiometer), JMR (Jason-1 Microwave Radiometer), AMR (OSTM Advanced Microwave Radiometer), AMR (Jason-3 Advanced Microwave Radiometer)\",\n",
    "    'source_TOPEX': \"TOPEX/Poseidon MGDR_B: Benada, J.R. 1997. PO.DAAC Merged GDR (TOPEX/POSEIDON) Generation B Users Handbook, Version 2.0 JPL D-11007\",\n",
    "    'source_Jason-1': \"Jason-1 GDR_E: AVISO and PODAAC User Handbook. IGDR and GDR Jason Products SMM-MU-M5-OP-13184-CN (AVISO), JPL D-21352 (PODAAC)  Edition 4\",\n",
    "    'source_OSTM': \"OSTM GDR_D: OSTM/Jason-2 Products Handbook, CNES: SALP-MU-M-OP-15815-CN, EUMETSAT: EUM/OPS-JAS/MAN/08/0041, JPL: OSTM-2 9-1237, NOAA/NESDIS: Polar Series/OSTM J400, Issue 1 rev 8, December 1, 2011\",\n",
    "    'source_Jason-3': \"Jason-3 GDR_D: Jason-3 Products Handbook, CNES : SALP-MU-M-OP-16118-CN, Issue: 1 rev 2, February 12th, 2016\",\n",
    "    'Conventions': \"CF-1.6\",\n",
    "    'keywords': \"EARTH SCIENCE > OCEANS > SEA SURFACE TOPOGRAPHY > SEA SURFACE HEIGHT\",\n",
    "    'keywords_vocabulary': \"GCMD Science Keywords\",\n",
    "})\n",
    "\n",
    "# Add all those attributes to the xarray dataset:\n",
    "ds.attrs = global_attributes\n",
    "\n",
    "print(ds)"
   ]
  },
  {
   "cell_type": "markdown",
   "metadata": {},
   "source": [
    "## Write to disk\n",
    "\n",
    "Finally, let's write the dataset to local disk as a netCDF file. We use the [`to_netcdf`](http://xarray.pydata.org/en/stable/generated/xarray.Dataset.to_netcdf.html) method of the dataset object for that. \n",
    "\n",
    "Pay close attention to the options below:"
   ]
  },
  {
   "cell_type": "code",
   "execution_count": 25,
   "metadata": {
    "ExecuteTime": {
     "end_time": "2021-01-08T03:31:58.579666Z",
     "start_time": "2021-01-08T03:31:58.572989Z"
    }
   },
   "outputs": [
    {
     "data": {
      "text/plain": [
       "{'dtype': 'float64', 'zlib': True, '_FillValue': 99900.0}"
      ]
     },
     "execution_count": 25,
     "metadata": {},
     "output_type": "execute_result"
    }
   ],
   "source": [
    "# Default encoding params to be applied to all variables:\n",
    "defaults = {'zlib': True, '_FillValue': fill_value}\n",
    "\n",
    "# Collect per-variable encoding dicts in a Python dict:\n",
    "encoding = {'time': {'zlib': True, '_FillValue': False}}\n",
    "\n",
    "# Use simple condition to decide to recast problematic int64 data types:\n",
    "for var in ds.variables:\n",
    "    enc = {'dtype': str(ds[var].dtype), **defaults}\n",
    "    if var==\"time\":\n",
    "        continue\n",
    "    if ds[var].dtype==\"int64\":\n",
    "        enc.update({'dtype': \"int32\"})\n",
    "    encoding[var] = enc\n",
    "\n",
    "encoding['gmsl_variation']"
   ]
  },
  {
   "cell_type": "markdown",
   "metadata": {},
   "source": [
    "Write the dataset to local disk with the same name as the text file downloaded from opendap, replacing`.txt` with `.nc`."
   ]
  },
  {
   "cell_type": "code",
   "execution_count": 26,
   "metadata": {
    "ExecuteTime": {
     "end_time": "2021-01-08T03:31:58.639081Z",
     "start_time": "2021-01-08T03:31:58.581246Z"
    }
   },
   "outputs": [
    {
     "name": "stdout",
     "output_type": "stream",
     "text": [
      "# Write to disk: GMSL_TPJAOS_5.0_199209_202009.nc\n"
     ]
    }
   ],
   "source": [
    "filename = basename(opendap_url).replace(\".txt\", \".nc\")\n",
    "print(f\"# Write to disk: {filename}\")\n",
    "\n",
    "ds.to_netcdf(\n",
    "    path=filename,\n",
    "    mode=\"w\",\n",
    "    format=\"NETCDF4\",\n",
    "    encoding=encoding,\n",
    ")"
   ]
  },
  {
   "cell_type": "markdown",
   "metadata": {},
   "source": [
    "And admire your work by calling *ncdump* on the new netCDF4 file:"
   ]
  },
  {
   "cell_type": "code",
   "execution_count": 27,
   "metadata": {
    "ExecuteTime": {
     "end_time": "2021-01-08T03:31:58.800402Z",
     "start_time": "2021-01-08T03:31:58.640761Z"
    },
    "scrolled": false
   },
   "outputs": [
    {
     "name": "stdout",
     "output_type": "stream",
     "text": [
      "netcdf GMSL_TPJAOS_5.0_199209_202009 {\r\n",
      "dimensions:\r\n",
      "\ttime = 1019 ;\r\n",
      "variables:\r\n",
      "\tdouble time(time) ;\r\n",
      "\t\ttime:_FillValue = 0. ;\r\n",
      "\t\ttime:long_name = \"time\" ;\r\n",
      "\t\ttime:standard_name = \"time\" ;\r\n",
      "\t\ttime:units = \"seconds since 1993-01-05 04:58:03.936007\" ;\r\n",
      "\t\ttime:calendar = \"proleptic_gregorian\" ;\r\n",
      "\tint altimeter_type(time) ;\r\n",
      "\t\taltimeter_type:_FillValue = 99900 ;\r\n",
      "\t\taltimeter_type:column_index = 1LL ;\r\n",
      "\t\taltimeter_type:long_name = \"altimeter type 0=dual-frequency  999=single frequency (ie Poseidon-1)\" ;\r\n",
      "\tint cycle(time) ;\r\n",
      "\t\tcycle:_FillValue = 99900 ;\r\n",
      "\t\tcycle:column_index = 2LL ;\r\n",
      "\t\tcycle:long_name = \"merged file cycle #\" ;\r\n",
      "\tdouble year(time) ;\r\n",
      "\t\tyear:_FillValue = 99900. ;\r\n",
      "\t\tyear:column_index = 3LL ;\r\n",
      "\t\tyear:long_name = \"year+fraction of year (mid-cycle)\" ;\r\n",
      "\t\tyear:units = \"year\" ;\r\n",
      "\tint observation_count(time) ;\r\n",
      "\t\tobservation_count:_FillValue = 99900 ;\r\n",
      "\t\tobservation_count:column_index = 4LL ;\r\n",
      "\t\tobservation_count:long_name = \"number of observations\" ;\r\n",
      "\tdouble observation_count_weighted(time) ;\r\n",
      "\t\tobservation_count_weighted:_FillValue = 99900. ;\r\n",
      "\t\tobservation_count_weighted:column_index = 5LL ;\r\n",
      "\t\tobservation_count_weighted:long_name = \"number of weighted observations\" ;\r\n",
      "\tdouble gmsl_variation(time) ;\r\n",
      "\t\tgmsl_variation:_FillValue = 99900. ;\r\n",
      "\t\tgmsl_variation:column_index = 6LL ;\r\n",
      "\t\tgmsl_variation:long_name = \"GMSL (Global Isostatic Adjustment (GIA) not applied) variation (mm) with respect to 20-year TOPEX/Jason collinear mean reference\" ;\r\n",
      "\t\tgmsl_variation:units = \"mm\" ;\r\n",
      "\tdouble gmsl_variation_std(time) ;\r\n",
      "\t\tgmsl_variation_std:_FillValue = 99900. ;\r\n",
      "\t\tgmsl_variation_std:column_index = 7LL ;\r\n",
      "\t\tgmsl_variation_std:long_name = \"standard deviation of GMSL (GIA not applied) variation estimate (mm)\" ;\r\n",
      "\t\tgmsl_variation_std:units = \"mm\" ;\r\n",
      "\tdouble gmsl_variation_smooth(time) ;\r\n",
      "\t\tgmsl_variation_smooth:_FillValue = 99900. ;\r\n",
      "\t\tgmsl_variation_smooth:column_index = 8LL ;\r\n",
      "\t\tgmsl_variation_smooth:long_name = \"smoothed (60-day Gaussian type filter) GMSL (GIA not applied) variation (mm)\" ;\r\n",
      "\t\tgmsl_variation_smooth:units = \"mm\" ;\r\n",
      "\tdouble gmsl_variation_with_gia(time) ;\r\n",
      "\t\tgmsl_variation_with_gia:_FillValue = 99900. ;\r\n",
      "\t\tgmsl_variation_with_gia:column_index = 9LL ;\r\n",
      "\t\tgmsl_variation_with_gia:long_name = \"GMSL (Global Isostatic Adjustment (GIA) applied) variation (mm) with respect to 20-year TOPEX/Jason collinear mean reference\" ;\r\n",
      "\t\tgmsl_variation_with_gia:units = \"mm\" ;\r\n",
      "\tdouble gmsl_variation_with_gia_std(time) ;\r\n",
      "\t\tgmsl_variation_with_gia_std:_FillValue = 99900. ;\r\n",
      "\t\tgmsl_variation_with_gia_std:column_index = 10LL ;\r\n",
      "\t\tgmsl_variation_with_gia_std:long_name = \"standard deviation of GMSL (GIA applied) variation estimate (mm)\" ;\r\n",
      "\t\tgmsl_variation_with_gia_std:units = \"mm\" ;\r\n",
      "\tdouble gmsl_variation_with_gia_smooth(time) ;\r\n",
      "\t\tgmsl_variation_with_gia_smooth:_FillValue = 99900. ;\r\n",
      "\t\tgmsl_variation_with_gia_smooth:column_index = 11LL ;\r\n",
      "\t\tgmsl_variation_with_gia_smooth:long_name = \"smoothed (60-day Gaussian type filter) GMSL (GIA applied) variation (mm)\" ;\r\n",
      "\t\tgmsl_variation_with_gia_smooth:units = \"mm\" ;\r\n",
      "\tdouble gmsl_variation_with_gia_smooth_and_signals_removed(time) ;\r\n",
      "\t\tgmsl_variation_with_gia_smooth_and_signals_removed:_FillValue = 99900. ;\r\n",
      "\t\tgmsl_variation_with_gia_smooth_and_signals_removed:column_index = 12LL ;\r\n",
      "\t\tgmsl_variation_with_gia_smooth_and_signals_removed:long_name = \"smoothed (60-day Gaussian type filter) GMSL (GIA applied) variation (mm); annual and semi-annual signal removed\" ;\r\n",
      "\r\n",
      "// global attributes:\r\n",
      "\t\t:summary = \"This file contains Global Mean Sea Level (GMSL) variations computed at the NASA Goddard Space Flight Center under the auspices of the NASA Sea Level Change program. The GMSL was generated using the Integrated Multi-Mission Ocean Altimeter Data for Climate Research (http://podaac.jpl.nasa.gov/dataset/MERGED_TP_J1_OSTM_OST_ALL_V5). It combines Sea Surface Heights from TOPEX/Poseidon, Jason-1, OSTM/Jason-2, and Jason-3 to a common terrestrial reference frame with all inter-mission biases, range and geophysical corrections applied and placed onto a georeferenced orbit. This creates a consistent data record throughout time, regardless of the instrument used. The data can be found below. A separate figure file, Global_Sea_Level_Graph, was generated using the GMSL data (listed in column 12 below) with the 60-day Gaussian type filter and having the Global Isostatic Adjustment (GIA) applied, with annual and semi-annual signals removed.\" ;\r\n",
      "\t\t:id = \"10.5067/GMSLM-TJ150\" ;\r\n",
      "\t\tstring :references = \"Beckley, B. D., Callahan, P. S., Hancock, D. W., Mitchum, G. T., & Ray, R. D. (2017). On the ‘‘cal-mode’’ correction to TOPEX satellite altimetry and its effect on the global mean sea level time series. Journal of Geophysical Research: Oceans, 122. https://doi.org/10.1002/2017JC013090; Beckley, B.D.,  N. P. Zelensky, S. A. Holmes, F. G. Lemoine, R. D. Ray, G. T. Mitchum, S. D. Desai & S. T. Brown, Assessment  of the Jason-2 Extension to the TOPEX/Poseidon, Jason-1 Sea-Surface Height Time Series for Global Mean Sea Level  Monitoring, Marine Geodesy, Vol 33, Suppl 1, 2010. https://doi.org/10.1080/01490419.2010.491029; Monitoring, Marine Geodesy, Vol 33, Suppl 1, 2010. https://doi.org/10.1080/01490419.2010.491029; GSFC. 2020. Global Mean Sea Level Trend from Integrated Multi-Mission Ocean Altimeters TOPEX/Poseidon, Jason-1, OSTM/Jason-2, and Jason-3 Version 5.0 Ver. 5.0 PO.DAAC, CA, USA. Dataset accessed [YYYY-MM-DD] at http://dx.doi.org/10.5067/GMSLM-TJ150.\" ;\r\n",
      "\t\t:comment = \"TOPEX/Jason 1996-2016 collinear mean reference derived from cycles 121 to 858.\" ;\r\n",
      "\t\t:time_coverage_start = \"1993-01-05T04:58:03\" ;\r\n",
      "\t\t:time_coverage_end = \"2020-09-04T05:59:45\" ;\r\n",
      "\t\t:title = \"Global Mean Sea Level Trend from Integrated Multi-Mission Ocean Altimeters TOPEX/Poseidon Jason-1 and OSTM/Jason-2 Version 5\" ;\r\n",
      "\t\t:institution = \"NASA Goddard Space Flight Center\" ;\r\n",
      "\t\t:reference_document = \"Integrated Multi-Mission Ocean Altimeter Data for Climate Research TOPEX/Poseidon, Jason-1, OSTM/Jason-2 and Jason-3 User\\'s Handbook, Version 4\" ;\r\n",
      "\t\t:creator_name = \"Brian D. Beckley, Richard D. Ray\" ;\r\n",
      "\t\t:creator_email = \"Brian.D.Beckley@nasa.gov, Richard.D.Ray@nasa.gov\" ;\r\n",
      "\t\t:project_name = \"NASA MEaSUREs - NNH06ZDA001N\" ;\r\n",
      "\t\t:mission_name = \"Integrated T/P, Jason-1, OSTM/Jason-2 and Jason-3 Altimetry\" ;\r\n",
      "\t\t:altimeter_sensor_name = \"TOPEX-A, TOPEX-B, Poseidon-1, Poseidon-2, Poseidon-3, Poseidon-3B\" ;\r\n",
      "\t\t:radiometer_sensor_name = \"TMR (TOPEX/Poseidon Microwave Radiometer), JMR (Jason-1 Microwave Radiometer), AMR (OSTM Advanced Microwave Radiometer), AMR (Jason-3 Advanced Microwave Radiometer)\" ;\r\n",
      "\t\t:source_TOPEX = \"TOPEX/Poseidon MGDR_B: Benada, J.R. 1997. PO.DAAC Merged GDR (TOPEX/POSEIDON) Generation B Users Handbook, Version 2.0 JPL D-11007\" ;\r\n",
      "\t\t:source_Jason-1 = \"Jason-1 GDR_E: AVISO and PODAAC User Handbook. IGDR and GDR Jason Products SMM-MU-M5-OP-13184-CN (AVISO), JPL D-21352 (PODAAC)  Edition 4\" ;\r\n",
      "\t\t:source_OSTM = \"OSTM GDR_D: OSTM/Jason-2 Products Handbook, CNES: SALP-MU-M-OP-15815-CN, EUMETSAT: EUM/OPS-JAS/MAN/08/0041, JPL: OSTM-2 9-1237, NOAA/NESDIS: Polar Series/OSTM J400, Issue 1 rev 8, December 1, 2011\" ;\r\n",
      "\t\t:source_Jason-3 = \"Jason-3 GDR_D: Jason-3 Products Handbook, CNES : SALP-MU-M-OP-16118-CN, Issue: 1 rev 2, February 12th, 2016\" ;\r\n",
      "\t\t:Conventions = \"CF-1.6\" ;\r\n",
      "\t\t:keywords = \"EARTH SCIENCE > OCEANS > SEA SURFACE TOPOGRAPHY > SEA SURFACE HEIGHT\" ;\r\n",
      "\t\t:keywords_vocabulary = \"GCMD Science Keywords\" ;\r\n",
      "}\r\n"
     ]
    }
   ],
   "source": [
    "!ncdump -h $filename"
   ]
  },
  {
   "cell_type": "code",
   "execution_count": null,
   "metadata": {},
   "outputs": [],
   "source": []
  }
 ],
 "metadata": {
  "hide_input": false,
  "kernelspec": {
   "display_name": "Python 3",
   "language": "python",
   "name": "python3"
  },
  "language_info": {
   "codemirror_mode": {
    "name": "ipython",
    "version": 3
   },
   "file_extension": ".py",
   "mimetype": "text/x-python",
   "name": "python",
   "nbconvert_exporter": "python",
   "pygments_lexer": "ipython3",
   "version": "3.7.7"
  },
  "toc": {
   "base_numbering": 1,
   "nav_menu": {},
   "number_sections": false,
   "sideBar": true,
   "skip_h1_title": true,
   "title_cell": "Table of Contents",
   "title_sidebar": "Contents",
   "toc_cell": false,
   "toc_position": {},
   "toc_section_display": true,
   "toc_window_display": false
  }
 },
 "nbformat": 4,
 "nbformat_minor": 4
}
